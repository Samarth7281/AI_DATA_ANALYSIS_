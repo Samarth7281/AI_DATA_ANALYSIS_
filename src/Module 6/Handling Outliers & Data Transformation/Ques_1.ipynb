{
 "cells": [
  {
   "cell_type": "code",
   "execution_count": null,
   "metadata": {},
   "outputs": [],
   "source": [
    "# Question: Visualizing Outliers Using Boxplots\n",
    "# Description: Use a boxplot to visually detect outliers in a dataset.\n",
    "\n",
    "import numpy as np\n",
    "import matplotlib.pyplot as plt\n",
    "data = np.array([1, 2, 2, 3, 3, 4, 5, 5, 6, 7, 7, 8, 8, 9, 12, 15, 16, 18, 25, 30])\n",
    "fig, ax = plt.subplots(figsize=(10, 6))\n",
    "box = ax.boxplot(data, vert=True, patch_artist=True, showfliers=True)\n",
    "for median in box['medians']:\n",
    "    median.set(color='black', linewidth=2)\n",
    "for flier in box['fliers']:\n",
    "    flier.set(marker='o', color='red', alpha=0.8)\n",
    "for box in box['boxes']:\n",
    "    box.set(facecolor='lightblue')\n",
    "ax.set_title('Boxplot with Outliers Highlighted')\n",
    "ax.set_ylabel('Values')\n",
    "plt.tight_layout()\n",
    "plt.show()\n"
   ]
  }
 ],
 "metadata": {
  "language_info": {
   "name": "python"
  }
 },
 "nbformat": 4,
 "nbformat_minor": 2
}
