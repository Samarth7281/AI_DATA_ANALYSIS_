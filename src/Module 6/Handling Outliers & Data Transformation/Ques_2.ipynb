{
 "cells": [
  {
   "cell_type": "code",
   "execution_count": null,
   "metadata": {},
   "outputs": [],
   "source": [
    "# Question: Winsorization of Data\n",
    "# Description: Apply Winsorization to a given dataset to handle outliers.\n",
    "\n",
    "import numpy as np\n",
    "import pandas as pd\n",
    "import matplotlib.pyplot as plt\n",
    "from scipy import stats\n",
    "\n",
    "data = np.array([1, 2, 3, 4, 5, 6, 7, 8, 9, 10, 15, 20, 50, 100, 200])\n",
    "\n",
    "def winsorize_data(data, limits=(0.05, 0.05)):\n",
    "    return stats.mstats.winsorize(data, limits=limits)\n",
    "\n",
    "winsorized_data = winsorize_data(data)\n",
    "\n",
    "fig, ax = plt.subplots(1, 2, figsize=(14, 6))\n",
    "\n",
    "ax[0].hist(data, bins=10, alpha=0.7, color='blue')\n",
    "ax[0].set_title('Original Data')\n",
    "ax[0].set_xlabel('Values')\n",
    "ax[0].set_ylabel('Frequency')\n",
    "\n",
    "ax[1].hist(winsorized_data, bins=10, alpha=0.7, color='green')\n",
    "ax[1].set_title('Winsorized Data (5% each tail)')\n",
    "ax[1].set_xlabel('Values')\n",
    "ax[1].set_ylabel('Frequency')\n",
    "\n",
    "plt.tight_layout()\n",
    "plt.show()\n",
    "\n",
    "print(\"Original data:\", data)\n",
    "print(\"Winsorized data:\", winsorized_data)\n",
    "\n",
    "percentiles = [0.01, 0.05, 0.1, 0.25]\n",
    "for p in percentiles:\n",
    "    winsorized = winsorize_data(data, limits=(p, p))\n",
    "    print(f\"Winsorized at {p*100}%:\", winsorized)"
   ]
  }
 ],
 "metadata": {
  "language_info": {
   "name": "python"
  }
 },
 "nbformat": 4,
 "nbformat_minor": 2
}
