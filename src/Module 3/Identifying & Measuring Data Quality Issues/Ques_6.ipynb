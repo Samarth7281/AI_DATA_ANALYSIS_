{
 "cells": [
  {
   "cell_type": "code",
   "execution_count": 1,
   "metadata": {},
   "outputs": [],
   "source": [
    "# Question: Evaluating Data Distribution\n",
    "# Description: Analyze the distribution of a numeric column using histograms and descriptive statistics.\n",
    "import pandas as pd\n",
    "import matplotlib.pyplot as plt\n",
    "import statistics\n",
    "\n",
    "def evaluate_distribution(df, column_name):\n",
    "    # Check if column exists\n",
    "    if column_name not in df.columns:\n",
    "        print(\"Error: Column not found.\")\n",
    "        return\n",
    "    \n",
    "    # Drop missing values\n",
    "    data = df[column_name].dropna()\n",
    "    \n",
    "    # Check if data is numeric\n",
    "    if not pd.api.types.is_numeric_dtype(data):\n",
    "        print(\"Error: Column is not numeric.\")\n",
    "        return\n",
    "    \n",
    "    # Convert to list\n",
    "    values = data.tolist()\n",
    "    \n",
    "    if not values:\n",
    "        print(\"The column is empty after removing missing values.\")\n",
    "        return\n",
    "\n",
    "    # Descriptive statistics\n",
    "    try:\n",
    "        mean_val = statistics.mean(values)\n",
    "        median_val = statistics.median(values)\n",
    "        mode_val = statistics.mode(values)\n",
    "        std_dev = statistics.stdev(values) if len(values) > 1 else 0\n",
    "        min_val = min(values)\n",
    "        max_val = max(values)\n",
    "    except statistics.StatisticsError:\n",
    "        mode_val = \"No unique mode\"\n",
    "\n",
    "    print(f\"Descriptive Statistics for '{column_name}':\")\n",
    "    print(f\"Mean: {mean_val}\")\n",
    "    print(f\"Median: {median_val}\")\n",
    "    print(f\"Mode: {mode_val}\")\n",
    "    print(f\"Standard Deviation: {std_dev}\")\n",
    "    print(f\"Min: {min_val}\")\n",
    "    print(f\"Max: {max_val}\")\n",
    "\n",
    "    # Plot histogram\n",
    "    plt.figure(figsize=(8, 5))\n",
    "    plt.hist(values, bins=10, edgecolor='black', color='skyblue')\n",
    "    plt.title(f\"Histogram of '{column_name}'\")\n",
    "    plt.xlabel(column_name)\n",
    "    plt.ylabel(\"Frequency\")\n",
    "    plt.grid(True)\n",
    "    plt.show()\n",
    "\n",
    "\n"
   ]
  }
 ],
 "metadata": {
  "kernelspec": {
   "display_name": "Python 3",
   "language": "python",
   "name": "python3"
  },
  "language_info": {
   "codemirror_mode": {
    "name": "ipython",
    "version": 3
   },
   "file_extension": ".py",
   "mimetype": "text/x-python",
   "name": "python",
   "nbconvert_exporter": "python",
   "pygments_lexer": "ipython3",
   "version": "3.10.12"
  }
 },
 "nbformat": 4,
 "nbformat_minor": 2
}
