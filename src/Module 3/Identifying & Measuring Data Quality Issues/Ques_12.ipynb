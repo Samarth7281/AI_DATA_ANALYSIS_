{
 "cells": [
  {
   "cell_type": "code",
   "execution_count": 1,
   "metadata": {},
   "outputs": [
    {
     "name": "stdout",
     "output_type": "stream",
     "text": [
      "Mean Sales: 231.0\n",
      "Median Sales: 225.0\n",
      "Mode Sales: 200\n",
      "Average Age: 29.2\n",
      "Median Age: 29.5\n",
      "Mode Age: 25\n",
      "Mean Visits: 503.5\n",
      "Median Visits: 500.0\n",
      "Mode Visits: 500\n"
     ]
    }
   ],
   "source": [
    "# Data Profiling Techniques Examples\n",
    "\n",
    "# 1. Descriptive Statistics:\n",
    "# Task 1: Calculate the mean, median, and mode for sales figures in a retail dataset.\n",
    "# Task 2: Analyze the average age, median, and mode in a customer demographic\n",
    "# dataset.\n",
    "# Task 3: Determine the mean, median, and mode of daily website visit counts.\n",
    "\n",
    "import pandas as pd\n",
    "data = {'Sales': [200, 220, 250, 200, 270, 220, 230, 210, 250, 260]}\n",
    "df = pd.DataFrame(data)\n",
    "mean_sales = df['Sales'].mean()\n",
    "median_sales = df['Sales'].median()\n",
    "mode_sales = df['Sales'].mode()[0]\n",
    "print(f\"Mean Sales: {mean_sales}\")\n",
    "print(f\"Median Sales: {median_sales}\")\n",
    "print(f\"Mode Sales: {mode_sales}\")\n",
    "data = {'Age': [25, 30, 22, 25, 35, 40, 30, 29, 25, 31]}\n",
    "df = pd.DataFrame(data)\n",
    "mean_age = df['Age'].mean()\n",
    "median_age = df['Age'].median()\n",
    "mode_age = df['Age'].mode()[0]\n",
    "print(f\"Average Age: {mean_age}\")\n",
    "print(f\"Median Age: {median_age}\")\n",
    "print(f\"Mode Age: {mode_age}\")\n",
    "data = {'Visits': [500, 520, 480, 500, 490, 530, 500, 515, 495, 505]}\n",
    "df = pd.DataFrame(data)\n",
    "mean_visits = df['Visits'].mean()\n",
    "median_visits = df['Visits'].median()\n",
    "mode_visits = df['Visits'].mode()[0]\n",
    "print(f\"Mean Visits: {mean_visits}\")\n",
    "print(f\"Median Visits: {median_visits}\")\n",
    "print(f\"Mode Visits: {mode_visits}\")\n",
    "\n",
    "\n",
    "\n",
    "\n",
    "\n",
    "# 2. Distribution Analysis:\n",
    "# Task 1: Visualize the distribution of product prices using histograms.\n",
    "# Task 2: Create a distribution chart for exam scores in an educational dataset.\n",
    "# Task 3: Analyze the distribution of order quantities for inventory management.\n",
    "\n",
    "\n",
    "\n",
    "\n",
    "\n",
    "\n",
    "# 3. Data Type Validation:\n",
    "# Task 1: Validate numeric fields in a dataset to ensure they contain only numbers.\n",
    "# Task 2: Check for valid date formats in a transaction log.\n",
    "# Task 3: Validate email formats in a customer contact dataset.\n",
    "\n",
    "\n",
    "\n",
    "\n",
    "\n",
    "\n",
    "\n"
   ]
  }
 ],
 "metadata": {
  "kernelspec": {
   "display_name": "Python 3",
   "language": "python",
   "name": "python3"
  },
  "language_info": {
   "codemirror_mode": {
    "name": "ipython",
    "version": 3
   },
   "file_extension": ".py",
   "mimetype": "text/x-python",
   "name": "python",
   "nbconvert_exporter": "python",
   "pygments_lexer": "ipython3",
   "version": "3.10.12"
  }
 },
 "nbformat": 4,
 "nbformat_minor": 2
}
