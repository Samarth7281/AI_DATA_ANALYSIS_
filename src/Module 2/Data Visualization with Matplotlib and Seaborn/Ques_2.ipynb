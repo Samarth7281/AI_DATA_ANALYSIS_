{
 "cells": [
  {
   "cell_type": "code",
   "execution_count": null,
   "metadata": {},
   "outputs": [],
   "source": [
    "# Plotting a Scatter Plot with Matplotlib\n",
    "# Description: Plot a scatter plot to visualize the relationship between height in centimeters and weight in\n",
    "# kilograms for a population dataset: Heights [160, 170, 165, 180, 175] and Weights [55, 65, 60,\n",
    "# 80, 76].\n",
    "import matplotlib.pyplot as plt\n",
    "\n",
    "# Data\n",
    "heights = [160, 170, 165, 180, 175]  # in cm\n",
    "weights = [55, 65, 60, 80, 76]       # in kg\n",
    "\n",
    "# Create scatter plot\n",
    "plt.scatter(heights, weights, color='green', marker='o')\n",
    "\n",
    "# Add labels and title\n",
    "plt.xlabel('Height (cm)')\n",
    "plt.ylabel('Weight (kg)')\n",
    "plt.title('Height vs Weight Scatter Plot')\n",
    "\n",
    "# Show plot\n",
    "plt.show()\n"
   ]
  }
 ],
 "metadata": {
  "language_info": {
   "name": "python"
  }
 },
 "nbformat": 4,
 "nbformat_minor": 2
}
